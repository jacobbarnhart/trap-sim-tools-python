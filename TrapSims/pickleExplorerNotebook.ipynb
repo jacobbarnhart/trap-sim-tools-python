{
 "cells": [
  {
   "cell_type": "code",
   "execution_count": 3,
   "metadata": {},
   "outputs": [
    {
     "name": "stdout",
     "output_type": "stream",
     "text": [
      "96\n",
      "183495\n"
     ]
    }
   ],
   "source": [
    "import numpy as np\n",
    "import pandas as pd\n",
    "import pickle\n",
    "\n",
    "\n",
    "\n",
    "perm = [1,2,0]\n",
    "\n",
    "f = open(\"/Users/jacobbarnhart/Downloads/SQRLab Data/CENTRALonly.pkl\", \"rb\")\n",
    "trap = pickle.load(f, encoding=\"latin1\")\n",
    "\n",
    "Xi = trap['X'] \n",
    "Yi = trap['Y']\n",
    "Zi = trap['Z']\n",
    "\n",
    "# Get everything into expected coordinates (described in project_parameters).\n",
    "coords = [Xi, Yi, Zi]\n",
    "X = coords[perm[0]]\n",
    "Y = coords[perm[1]]\n",
    "Z = coords[perm[2]]\n",
    "\n",
    "# Where is the initialization for this?\n",
    "X, Y, Z = X, Y, Z\n",
    "nx, ny, nz = len(X), len(Y), len(Z)\n",
    "numElectrodes = 12\n",
    "\n",
    "# Truncate axial direction to only care about part that is spanned by electrodes\n",
    "# Get all the positions of the electrodes\n",
    "pos = []\n",
    "for key in trap['electrodes']:\n",
    "    p = trap['electrodes'][key]['position']\n",
    "    pos.append(p)\n",
    "# Get all the x values of the positions, and then get the min and max.\n",
    "xs = [p[0] for p in pos]\n",
    "Z_max = max(xs) / 1000.0\n",
    "Z_min = min(xs) / 1000.0 # Where does 1000 come from? Guessing it is a unit thing.\n",
    "\n",
    "# Creates a range of the max and min indices.\n",
    "I_max = np.abs(Z - Z_max).argmin() + 20\n",
    "I_min = np.abs(Z - Z_min).argmin() - 20\n",
    "\n",
    "# Redefine z to just be these indices (and corresponding len).\n",
    "Z = Z[I_min:I_max]\n",
    "nz = I_max - I_min\n",
    "\n",
    "print(nz)\n",
    "\n",
    "na = [941, 13, 15]\n",
    "\n",
    "print(len(trap[\"electrodes\"][\"Q23\"][\"V\"]))\n"
   ]
  },
  {
   "cell_type": "code",
   "execution_count": 8,
   "metadata": {},
   "outputs": [
    {
     "name": "stdout",
     "output_type": "stream",
     "text": [
      "2\n",
      "4\n",
      "6\n",
      "8\n",
      "10\n",
      "12\n",
      "14\n",
      "16\n",
      "18\n",
      "20\n"
     ]
    }
   ],
   "source": [
    "for n in range(10):\n",
    "    print(2 * n + 2)"
   ]
  }
 ],
 "metadata": {
  "kernelspec": {
   "display_name": "Python 3.8.5 ('base')",
   "language": "python",
   "name": "python3"
  },
  "language_info": {
   "codemirror_mode": {
    "name": "ipython",
    "version": 3
   },
   "file_extension": ".py",
   "mimetype": "text/x-python",
   "name": "python",
   "nbconvert_exporter": "python",
   "pygments_lexer": "ipython3",
   "version": "3.8.5"
  },
  "orig_nbformat": 4,
  "vscode": {
   "interpreter": {
    "hash": "cd78fef2128015050713e82ca51c6520b11aee7c9ee8df750520bbbc7384cbaa"
   }
  }
 },
 "nbformat": 4,
 "nbformat_minor": 2
}
